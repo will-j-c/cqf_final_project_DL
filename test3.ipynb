{
 "cells": [
  {
   "cell_type": "code",
   "execution_count": 22,
   "metadata": {},
   "outputs": [],
   "source": [
    "# Imports\n",
    "from src.helpers import *\n",
    "import pandas as pd\n",
    "import pandas_ta as ta\n",
    "\n",
    "# Warnings\n",
    "import warnings\n",
    "warnings.filterwarnings(\"ignore\")\n",
    "\n",
    "# Preprocessing\n",
    "from sklearn.preprocessing import OneHotEncoder, MinMaxScaler, RobustScaler\n",
    "from sklearn.model_selection import train_test_split\n",
    "from sklearn.compose import ColumnTransformer\n",
    "\n",
    "pd.set_option('display.max_columns', 500, 'display.max_row', 500)\n",
    "\n",
    "# Load the raw price data\n",
    "df = pd.read_csv('data/raw/Gemini_ETHUSD_1h.csv', skiprows=[0])\n",
    "# Covert unix seconds to ms\n",
    "df['unix'] = df['unix'].apply(convert_unix_to_ms)\n",
    "# Parse unix timestamp as UTC dates and save as index\n",
    "df['unix'] = pd.to_datetime(df['unix'], unit='ms', utc=True)\n",
    "df.set_index(df['unix'], inplace=True)\n",
    "# Drop date, symbol and Volume USD columns\n",
    "df.drop(['unix', 'date', 'symbol', 'Volume ETH'], axis=1, inplace=True)\n",
    "# Rename\n",
    "df.rename(columns={'Volume USD': 'volume'}, inplace=True)\n",
    "# Sort date ascending\n",
    "df.sort_index(inplace=True)\n",
    "\n",
    "# Load the raw fear and greed index data\n",
    "df_fear_greed = pd.read_csv('data/raw/crypto_greed_fear_index.csv', parse_dates=True, index_col='timestamp')\n",
    "# Drop unneeded columns\n",
    "df_fear_greed.drop(['time_until_update', 'timestamp.1'], axis=1, inplace=True)\n",
    "# Rename columns\n",
    "df_fear_greed.columns = ['fg_value', 'fg_value_classification']\n",
    "# Put classification to lower case\n",
    "df_fear_greed['fg_value_classification'] = df_fear_greed['fg_value_classification'].str.lower()\n",
    "\n",
    "# Join the fear and greed data to price data\n",
    "df = df.join(df_fear_greed)\n",
    "# As index is only published once a day, forward fill for the remainder of the day\n",
    "df['fg_value'].ffill(inplace=True)\n",
    "df['fg_value_classification'].ffill(inplace=True)\n",
    "# Drop the \n",
    "df.dropna(inplace=True)"
   ]
  },
  {
   "cell_type": "code",
   "execution_count": 23,
   "metadata": {},
   "outputs": [],
   "source": [
    "# Feature engineering\n",
    "# Create the technical indicators\n",
    "df.ta.study(cores=0)\n",
    "# Add hours, days, months to investigate seasonality\n",
    "df['hour'] = df.index.hour\n",
    "df['day_of_week'] = df.index.day_of_week\n",
    "df['month'] = df.index.month"
   ]
  },
  {
   "cell_type": "code",
   "execution_count": 24,
   "metadata": {},
   "outputs": [],
   "source": [
    "# One Hot Encoding of categorical data\n",
    "encoder = OneHotEncoder(sparse_output=False)\n",
    "onehot = encoder.fit_transform(df[['fg_value_classification', 'hour', 'day_of_week', 'month']])\n",
    "feature_names = encoder.get_feature_names_out()\n",
    "df[feature_names] = onehot\n",
    "df.drop(['fg_value_classification', 'hour', 'day_of_week', 'month'], axis=1, inplace=True)"
   ]
  },
  {
   "cell_type": "code",
   "execution_count": 45,
   "metadata": {},
   "outputs": [],
   "source": [
    "df2 = df.copy()"
   ]
  },
  {
   "cell_type": "code",
   "execution_count": 46,
   "metadata": {},
   "outputs": [],
   "source": [
    "# Drop all the columns with all NaN\n",
    "df2 = df.dropna(axis=1, how='all')\n",
    "# Remove columns that do not have at least 40000 of data\n",
    "df2 = df.dropna(axis=1, thresh=40000)\n",
    "# Remove the leading rows of the data with NaN\n",
    "df2.dropna(axis=0, inplace=True)\n",
    "# Remove VIDYA_14\n",
    "df2.drop('VIDYA_14', axis=1, inplace=True)"
   ]
  },
  {
   "cell_type": "code",
   "execution_count": 47,
   "metadata": {},
   "outputs": [],
   "source": [
    "# Compute the outliers\n",
    "# Calculate what columns have outliers based on a threshold\n",
    "# Initialise an empty list\n",
    "outliers_arr = []\n",
    "threshold = 10\n",
    "cdl_cols = [col for col in df2 if col.startswith('CDL_')]\n",
    "outlier_df = df2.drop(cdl_cols, axis=1)\n",
    "# Cycle through all columns\n",
    "for col in outlier_df.columns:\n",
    "    try:\n",
    "        binary = outlier_df[col].isin([0, 1]).all()\n",
    "        if binary:\n",
    "            # break loop and go again\n",
    "            continue\n",
    "        Q1 = outlier_df[col].quantile(0.25)\n",
    "        Q3 = outlier_df[col].quantile(0.75)\n",
    "        IQR = Q3 - Q1\n",
    "        # Check if the datapoint is an outlier based on a threshold\n",
    "        outliers = outlier_df[col][(outlier_df[col] < Q1 - threshold * IQR) | (outlier_df[col] > Q3 + threshold * IQR)].count()\n",
    "        if outliers > 0:\n",
    "            outliers_arr.append((col, outliers))\n",
    "    except:\n",
    "        continue\n",
    "    \n",
    "outlier_df = pd.DataFrame(outliers_arr, columns=['feature', 'outlier_count'])"
   ]
  },
  {
   "cell_type": "code",
   "execution_count": 48,
   "metadata": {},
   "outputs": [],
   "source": [
    "robust_df = outlier_df \n",
    "robust_df['scaler'] = 'RobustScaler'\n",
    "min_max_df = pd.DataFrame()\n",
    "min_max_df['feature'] = df2.drop(robust_df['feature'], axis=1).columns\n",
    "min_max_df['scaler'] = 'MinMaxScaler'\n",
    "scalers_df = pd.concat([robust_df, min_max_df])\n",
    "scalers_df.sort_values('feature', inplace=True)\n",
    "scalers_df.reset_index(inplace=True, drop=True)"
   ]
  },
  {
   "cell_type": "code",
   "execution_count": 51,
   "metadata": {},
   "outputs": [],
   "source": [
    "# Create the labels\n",
    "df2['label'] = np.where(df2['LOGRET_1'].shift(-1) > 0.005, 1, 0)"
   ]
  },
  {
   "cell_type": "code",
   "execution_count": 52,
   "metadata": {},
   "outputs": [],
   "source": [
    "# Split into features and labels\n",
    "y = df2['label']\n",
    "X = df2.drop('label', axis=1)"
   ]
  },
  {
   "cell_type": "code",
   "execution_count": 53,
   "metadata": {},
   "outputs": [],
   "source": [
    "# Train, test split\n",
    "X_train, X_test, y_train, y_test = train_test_split(X, y, shuffle=False)\n",
    "X_train, X_val, y_train, y_val = train_test_split(X_train, y_train, shuffle=False)"
   ]
  },
  {
   "cell_type": "code",
   "execution_count": null,
   "metadata": {},
   "outputs": [],
   "source": [
    "# Save column names\n",
    "X_cols = X_train.columns\n",
    "# Scaling\n",
    "ct = ColumnTransformer(\n",
    "    [('robust', RobustScaler(), robust_df['feature'].values),\n",
    "     ('minmax', MinMaxScaler(), min_max_df['feature'].values)])\n",
    "X_train_arr = ct.fit_transform(X_train)\n",
    "X_test_arr = ct.transform(X_test)\n",
    "X_val_arr = ct.transform(X_val)"
   ]
  },
  {
   "cell_type": "code",
   "execution_count": null,
   "metadata": {},
   "outputs": [],
   "source": [
    "# Save the scaled final dataframes for future use\n",
    "X_train = pd.DataFrame(X_train_arr, columns=X_cols, index=X_train.index)\n",
    "X_test = pd.DataFrame(X_test_arr, columns=X_cols, index=X_test.index)\n",
    "X_val = pd.DataFrame(X_val_arr, columns=X_cols, index=X_val.index)\n",
    "X_train.to_csv('data/train/scaled_X_train.csv')\n",
    "y_train.to_csv('data/train/y_train.csv')\n",
    "X_test.to_csv('data/test/scaled_X_test.csv')\n",
    "y_test.to_csv('data/test/y_test.csv')\n",
    "X_val.to_csv('data/val/scaled_X_val.csv')\n",
    "y_val.to_csv('data/val/y_val.csv')"
   ]
  }
 ],
 "metadata": {
  "kernelspec": {
   "display_name": "final_assignment_code-eTELY0YF",
   "language": "python",
   "name": "python3"
  },
  "language_info": {
   "codemirror_mode": {
    "name": "ipython",
    "version": 3
   },
   "file_extension": ".py",
   "mimetype": "text/x-python",
   "name": "python",
   "nbconvert_exporter": "python",
   "pygments_lexer": "ipython3",
   "version": "3.10.12"
  }
 },
 "nbformat": 4,
 "nbformat_minor": 2
}
