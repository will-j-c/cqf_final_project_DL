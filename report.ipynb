{
 "cells": [
  {
   "cell_type": "markdown",
   "metadata": {},
   "source": [
    "<div>\n",
    "    <center>\n",
    "        <h1>\n",
    "            <font color=\"#902e59\">CQF June 2023 Intake: Final Project</font>\n",
    "        </h1>\n",
    "    </center>\n",
    "    <center>\n",
    "        <h3>Deep Learning for Asset Prediction</h3>\n",
    "    </center>\n",
    "    <center>\n",
    "        <h5>Will Colgate, Singapore, January 2024</h5>\n",
    "    </center>\n",
    "</div>\n"
   ]
  },
  {
   "cell_type": "markdown",
   "metadata": {},
   "source": [
    "### Problem Statement\n",
    "The objective is to produce a model that can predict positive moves using Long Short-Term Memory (LSTM) networks.\n",
    "\n",
    "I have chosen Ethereum as the ticker to analyse (technically a pair with USD). Crypto markets are notoriously volatile and it seems like a decent challenge to try and tease some insight out of the mess.\n",
    "\n",
    "For this purpose, I will aim to predict the positive trend over 6 hours only. This will be a binary classification problem with accuracy as the main metric used to measure the effectiveness of the model. The baseline to test the effectiveness fo the model against would be a random guess (i.e. a 50% chance of being correct)."
   ]
  },
  {
   "cell_type": "markdown",
   "metadata": {},
   "source": [
    "### Data Collection\n",
    "\n",
    "Using `download.py`, I have downloaded two years worth of hourly ticker data. This script wraps a simple function that pulls data from `yfinance`. The data is saved locally in \"ETH-USD_2y_1h.csv\" for convenience.\n",
    "\n",
    "`yfinance` has a restriction on the amount of hourly data that can be downloaded and restricts this to 730 days of data (i.e. 2 years). Given crypto markets never close, this amounts to 17k+ data points. As a general rule of thumb, 5 years of daily data would be required to predict daily returns. On a normal security, this would only be approximately 1,300 data points. Therefore, 2 years of hourly data should be sufficient for this problem."
   ]
  },
  {
   "cell_type": "code",
   "execution_count": 3,
   "metadata": {},
   "outputs": [],
   "source": [
    "# Imports\n",
    "# Base\n",
    "import pandas as pd\n",
    "import numpy as np"
   ]
  },
  {
   "cell_type": "code",
   "execution_count": 5,
   "metadata": {},
   "outputs": [
    {
     "data": {
      "text/html": [
       "<div>\n",
       "<style scoped>\n",
       "    .dataframe tbody tr th:only-of-type {\n",
       "        vertical-align: middle;\n",
       "    }\n",
       "\n",
       "    .dataframe tbody tr th {\n",
       "        vertical-align: top;\n",
       "    }\n",
       "\n",
       "    .dataframe thead th {\n",
       "        text-align: right;\n",
       "    }\n",
       "</style>\n",
       "<table border=\"1\" class=\"dataframe\">\n",
       "  <thead>\n",
       "    <tr style=\"text-align: right;\">\n",
       "      <th></th>\n",
       "      <th>Open</th>\n",
       "      <th>High</th>\n",
       "      <th>Low</th>\n",
       "      <th>Close</th>\n",
       "      <th>Volume</th>\n",
       "      <th>Dividends</th>\n",
       "      <th>Stock Splits</th>\n",
       "    </tr>\n",
       "    <tr>\n",
       "      <th>Datetime</th>\n",
       "      <th></th>\n",
       "      <th></th>\n",
       "      <th></th>\n",
       "      <th></th>\n",
       "      <th></th>\n",
       "      <th></th>\n",
       "      <th></th>\n",
       "    </tr>\n",
       "  </thead>\n",
       "  <tbody>\n",
       "    <tr>\n",
       "      <th>2021-12-10 11:00:00+00:00</th>\n",
       "      <td>4094.138428</td>\n",
       "      <td>4168.385254</td>\n",
       "      <td>4088.458496</td>\n",
       "      <td>4159.988770</td>\n",
       "      <td>0</td>\n",
       "      <td>0.0</td>\n",
       "      <td>0.0</td>\n",
       "    </tr>\n",
       "    <tr>\n",
       "      <th>2021-12-10 12:00:00+00:00</th>\n",
       "      <td>4158.929199</td>\n",
       "      <td>4194.666504</td>\n",
       "      <td>4156.186523</td>\n",
       "      <td>4171.749512</td>\n",
       "      <td>371617792</td>\n",
       "      <td>0.0</td>\n",
       "      <td>0.0</td>\n",
       "    </tr>\n",
       "    <tr>\n",
       "      <th>2021-12-10 13:00:00+00:00</th>\n",
       "      <td>4171.667969</td>\n",
       "      <td>4227.111816</td>\n",
       "      <td>4141.002441</td>\n",
       "      <td>4204.396484</td>\n",
       "      <td>1012555776</td>\n",
       "      <td>0.0</td>\n",
       "      <td>0.0</td>\n",
       "    </tr>\n",
       "    <tr>\n",
       "      <th>2021-12-10 14:00:00+00:00</th>\n",
       "      <td>4205.823242</td>\n",
       "      <td>4212.586914</td>\n",
       "      <td>4028.301270</td>\n",
       "      <td>4028.301270</td>\n",
       "      <td>0</td>\n",
       "      <td>0.0</td>\n",
       "      <td>0.0</td>\n",
       "    </tr>\n",
       "    <tr>\n",
       "      <th>2021-12-10 15:00:00+00:00</th>\n",
       "      <td>4037.234131</td>\n",
       "      <td>4086.067383</td>\n",
       "      <td>3998.373779</td>\n",
       "      <td>4015.867920</td>\n",
       "      <td>717191168</td>\n",
       "      <td>0.0</td>\n",
       "      <td>0.0</td>\n",
       "    </tr>\n",
       "  </tbody>\n",
       "</table>\n",
       "</div>"
      ],
      "text/plain": [
       "                                  Open         High          Low        Close  \\\n",
       "Datetime                                                                        \n",
       "2021-12-10 11:00:00+00:00  4094.138428  4168.385254  4088.458496  4159.988770   \n",
       "2021-12-10 12:00:00+00:00  4158.929199  4194.666504  4156.186523  4171.749512   \n",
       "2021-12-10 13:00:00+00:00  4171.667969  4227.111816  4141.002441  4204.396484   \n",
       "2021-12-10 14:00:00+00:00  4205.823242  4212.586914  4028.301270  4028.301270   \n",
       "2021-12-10 15:00:00+00:00  4037.234131  4086.067383  3998.373779  4015.867920   \n",
       "\n",
       "                               Volume  Dividends  Stock Splits  \n",
       "Datetime                                                        \n",
       "2021-12-10 11:00:00+00:00           0        0.0           0.0  \n",
       "2021-12-10 12:00:00+00:00   371617792        0.0           0.0  \n",
       "2021-12-10 13:00:00+00:00  1012555776        0.0           0.0  \n",
       "2021-12-10 14:00:00+00:00           0        0.0           0.0  \n",
       "2021-12-10 15:00:00+00:00   717191168        0.0           0.0  "
      ]
     },
     "execution_count": 5,
     "metadata": {},
     "output_type": "execute_result"
    }
   ],
   "source": [
    "# Collect the data into a dataframe\n",
    "csv = 'data/ETH-USD_2y_1h.csv'\n",
    "df = pd.read_csv(csv, index_col='Datetime')\n",
    "df.head()"
   ]
  },
  {
   "cell_type": "markdown",
   "metadata": {},
   "source": [
    "### Exploratory Data Analysis\n"
   ]
  },
  {
   "cell_type": "markdown",
   "metadata": {},
   "source": [
    "### Data Cleaning\n"
   ]
  },
  {
   "cell_type": "markdown",
   "metadata": {},
   "source": [
    "### Data Transformation\n"
   ]
  },
  {
   "cell_type": "markdown",
   "metadata": {},
   "source": [
    "### Deep Learning Model\n"
   ]
  },
  {
   "cell_type": "markdown",
   "metadata": {},
   "source": [
    "### Model Validation\n"
   ]
  },
  {
   "cell_type": "markdown",
   "metadata": {},
   "source": [
    "### Backtesting\n",
    "\n"
   ]
  }
 ],
 "metadata": {
  "kernelspec": {
   "display_name": "tf-gpu",
   "language": "python",
   "name": "python3"
  },
  "language_info": {
   "codemirror_mode": {
    "name": "ipython",
    "version": 3
   },
   "file_extension": ".py",
   "mimetype": "text/x-python",
   "name": "python",
   "nbconvert_exporter": "python",
   "pygments_lexer": "ipython3",
   "version": "3.10.12"
  }
 },
 "nbformat": 4,
 "nbformat_minor": 2
}
