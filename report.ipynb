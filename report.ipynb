{
 "cells": [
  {
   "cell_type": "markdown",
   "metadata": {},
   "source": [
    "<div>\n",
    "    <center>\n",
    "        <h1>\n",
    "            <font color=\"#902e59\">CQF June 2023 Intake: Final Project</font>\n",
    "        </h1>\n",
    "    </center>\n",
    "    <center>\n",
    "        <h3>Deep Learning for Asset Prediction</h3>\n",
    "    </center>\n",
    "    <center>\n",
    "        <h5>Will Colgate, Singapore, January 2024</h5>\n",
    "    </center>\n",
    "</div>\n"
   ]
  },
  {
   "cell_type": "markdown",
   "metadata": {},
   "source": [
    "### Problem Statement\n",
    "The objective is to produce a model that can predict positive moves using Long Short-Term Memory (LSTM) networks.\n",
    "\n",
    "I have chosen Ethereum as the ticker to analyse (technically a pair with USD). Crypto markets are notoriously volatile and it seems like a decent challenge to try and tease some insight out of the mess.\n",
    "\n",
    "For this purpose, I will aim to predict the positive trend over 6 hours only. This will be a binary classification problem with accuracy as the main metric used to measure the effectiveness of the model. The baseline to test the effectiveness fo the model against would be a random guess (i.e. a 50% chance of being correct)."
   ]
  },
  {
   "cell_type": "markdown",
   "metadata": {},
   "source": [
    "### Data Collection\n",
    "\n",
    "Using `download.py`, I have downloaded two years worth of hourly ticker data. This script wraps a simple function that pulls data from `yfinance`. The data is saved locally in \"ETH-USD_2y_1h.csv\" for convenience.\n",
    "\n",
    "`yfinance` has a restriction on the amount of hourly data that can be downloaded and restricts this to 730 days of data (i.e. 2 years). Given crypto markets never close, this amounts to 17k+ data points. As a general rule of thumb, 5 years of daily data would be required to predict daily returns. On a normal security, this would only be approximately 1,300 data points. Therefore, 2 years of hourly data should be more than sufficient for this problem. In fact, the amount of data may need to be reduced due to harware constraints."
   ]
  },
  {
   "cell_type": "code",
   "execution_count": 13,
   "metadata": {},
   "outputs": [],
   "source": [
    "# Imports\n",
    "from src.config import *\n",
    "# Base\n",
    "import pandas as pd\n",
    "import numpy as np\n",
    "\n",
    "# Plotting\n",
    "import matplotlib.pyplot as plt"
   ]
  },
  {
   "cell_type": "code",
   "execution_count": 14,
   "metadata": {},
   "outputs": [
    {
     "data": {
      "text/html": [
       "<div>\n",
       "<style scoped>\n",
       "    .dataframe tbody tr th:only-of-type {\n",
       "        vertical-align: middle;\n",
       "    }\n",
       "\n",
       "    .dataframe tbody tr th {\n",
       "        vertical-align: top;\n",
       "    }\n",
       "\n",
       "    .dataframe thead th {\n",
       "        text-align: right;\n",
       "    }\n",
       "</style>\n",
       "<table border=\"1\" class=\"dataframe\">\n",
       "  <thead>\n",
       "    <tr style=\"text-align: right;\">\n",
       "      <th></th>\n",
       "      <th>Open</th>\n",
       "      <th>High</th>\n",
       "      <th>Low</th>\n",
       "      <th>Close</th>\n",
       "      <th>Volume</th>\n",
       "      <th>Dividends</th>\n",
       "      <th>Stock Splits</th>\n",
       "    </tr>\n",
       "    <tr>\n",
       "      <th>Datetime</th>\n",
       "      <th></th>\n",
       "      <th></th>\n",
       "      <th></th>\n",
       "      <th></th>\n",
       "      <th></th>\n",
       "      <th></th>\n",
       "      <th></th>\n",
       "    </tr>\n",
       "  </thead>\n",
       "  <tbody>\n",
       "    <tr>\n",
       "      <th>2021-12-10 11:00:00+00:00</th>\n",
       "      <td>4094.138428</td>\n",
       "      <td>4168.385254</td>\n",
       "      <td>4088.458496</td>\n",
       "      <td>4159.988770</td>\n",
       "      <td>0</td>\n",
       "      <td>0.0</td>\n",
       "      <td>0.0</td>\n",
       "    </tr>\n",
       "    <tr>\n",
       "      <th>2021-12-10 12:00:00+00:00</th>\n",
       "      <td>4158.929199</td>\n",
       "      <td>4194.666504</td>\n",
       "      <td>4156.186523</td>\n",
       "      <td>4171.749512</td>\n",
       "      <td>371617792</td>\n",
       "      <td>0.0</td>\n",
       "      <td>0.0</td>\n",
       "    </tr>\n",
       "    <tr>\n",
       "      <th>2021-12-10 13:00:00+00:00</th>\n",
       "      <td>4171.667969</td>\n",
       "      <td>4227.111816</td>\n",
       "      <td>4141.002441</td>\n",
       "      <td>4204.396484</td>\n",
       "      <td>1012555776</td>\n",
       "      <td>0.0</td>\n",
       "      <td>0.0</td>\n",
       "    </tr>\n",
       "    <tr>\n",
       "      <th>2021-12-10 14:00:00+00:00</th>\n",
       "      <td>4205.823242</td>\n",
       "      <td>4212.586914</td>\n",
       "      <td>4028.301270</td>\n",
       "      <td>4028.301270</td>\n",
       "      <td>0</td>\n",
       "      <td>0.0</td>\n",
       "      <td>0.0</td>\n",
       "    </tr>\n",
       "    <tr>\n",
       "      <th>2021-12-10 15:00:00+00:00</th>\n",
       "      <td>4037.234131</td>\n",
       "      <td>4086.067383</td>\n",
       "      <td>3998.373779</td>\n",
       "      <td>4015.867920</td>\n",
       "      <td>717191168</td>\n",
       "      <td>0.0</td>\n",
       "      <td>0.0</td>\n",
       "    </tr>\n",
       "  </tbody>\n",
       "</table>\n",
       "</div>"
      ],
      "text/plain": [
       "                                  Open         High          Low        Close  \\\n",
       "Datetime                                                                        \n",
       "2021-12-10 11:00:00+00:00  4094.138428  4168.385254  4088.458496  4159.988770   \n",
       "2021-12-10 12:00:00+00:00  4158.929199  4194.666504  4156.186523  4171.749512   \n",
       "2021-12-10 13:00:00+00:00  4171.667969  4227.111816  4141.002441  4204.396484   \n",
       "2021-12-10 14:00:00+00:00  4205.823242  4212.586914  4028.301270  4028.301270   \n",
       "2021-12-10 15:00:00+00:00  4037.234131  4086.067383  3998.373779  4015.867920   \n",
       "\n",
       "                               Volume  Dividends  Stock Splits  \n",
       "Datetime                                                        \n",
       "2021-12-10 11:00:00+00:00           0        0.0           0.0  \n",
       "2021-12-10 12:00:00+00:00   371617792        0.0           0.0  \n",
       "2021-12-10 13:00:00+00:00  1012555776        0.0           0.0  \n",
       "2021-12-10 14:00:00+00:00           0        0.0           0.0  \n",
       "2021-12-10 15:00:00+00:00   717191168        0.0           0.0  "
      ]
     },
     "execution_count": 14,
     "metadata": {},
     "output_type": "execute_result"
    }
   ],
   "source": [
    "# Collect the data into a dataframe\n",
    "csv = 'data/ETH-USD_2y_1h.csv'\n",
    "df = pd.read_csv(csv, index_col='Datetime', parse_dates=True)\n",
    "df.head()"
   ]
  },
  {
   "cell_type": "markdown",
   "metadata": {},
   "source": [
    "### Exploratory Data Analysis\n"
   ]
  },
  {
   "cell_type": "code",
   "execution_count": 15,
   "metadata": {},
   "outputs": [
    {
     "data": {
      "text/html": [
       "<div>\n",
       "<style scoped>\n",
       "    .dataframe tbody tr th:only-of-type {\n",
       "        vertical-align: middle;\n",
       "    }\n",
       "\n",
       "    .dataframe tbody tr th {\n",
       "        vertical-align: top;\n",
       "    }\n",
       "\n",
       "    .dataframe thead th {\n",
       "        text-align: right;\n",
       "    }\n",
       "</style>\n",
       "<table border=\"1\" class=\"dataframe\">\n",
       "  <thead>\n",
       "    <tr style=\"text-align: right;\">\n",
       "      <th></th>\n",
       "      <th>count</th>\n",
       "      <th>mean</th>\n",
       "      <th>std</th>\n",
       "      <th>min</th>\n",
       "      <th>25%</th>\n",
       "      <th>50%</th>\n",
       "      <th>75%</th>\n",
       "      <th>max</th>\n",
       "    </tr>\n",
       "  </thead>\n",
       "  <tbody>\n",
       "    <tr>\n",
       "      <th>Open</th>\n",
       "      <td>17485.0</td>\n",
       "      <td>1.940922e+03</td>\n",
       "      <td>6.728440e+02</td>\n",
       "      <td>902.475952</td>\n",
       "      <td>1559.277222</td>\n",
       "      <td>1784.905029</td>\n",
       "      <td>2.040799e+03</td>\n",
       "      <td>4.205823e+03</td>\n",
       "    </tr>\n",
       "    <tr>\n",
       "      <th>High</th>\n",
       "      <td>17485.0</td>\n",
       "      <td>1.947399e+03</td>\n",
       "      <td>6.756417e+02</td>\n",
       "      <td>921.278198</td>\n",
       "      <td>1564.480469</td>\n",
       "      <td>1790.515625</td>\n",
       "      <td>2.048271e+03</td>\n",
       "      <td>4.227112e+03</td>\n",
       "    </tr>\n",
       "    <tr>\n",
       "      <th>Low</th>\n",
       "      <td>17485.0</td>\n",
       "      <td>1.934211e+03</td>\n",
       "      <td>6.697479e+02</td>\n",
       "      <td>896.300049</td>\n",
       "      <td>1553.950684</td>\n",
       "      <td>1778.494019</td>\n",
       "      <td>2.032429e+03</td>\n",
       "      <td>4.156187e+03</td>\n",
       "    </tr>\n",
       "    <tr>\n",
       "      <th>Close</th>\n",
       "      <td>17485.0</td>\n",
       "      <td>1.940835e+03</td>\n",
       "      <td>6.726981e+02</td>\n",
       "      <td>896.575623</td>\n",
       "      <td>1559.341064</td>\n",
       "      <td>1784.716431</td>\n",
       "      <td>2.040379e+03</td>\n",
       "      <td>4.204396e+03</td>\n",
       "    </tr>\n",
       "    <tr>\n",
       "      <th>Volume</th>\n",
       "      <td>17485.0</td>\n",
       "      <td>1.633657e+08</td>\n",
       "      <td>4.769001e+09</td>\n",
       "      <td>0.000000</td>\n",
       "      <td>0.000000</td>\n",
       "      <td>0.000000</td>\n",
       "      <td>1.216338e+08</td>\n",
       "      <td>6.273375e+11</td>\n",
       "    </tr>\n",
       "    <tr>\n",
       "      <th>Dividends</th>\n",
       "      <td>17485.0</td>\n",
       "      <td>0.000000e+00</td>\n",
       "      <td>0.000000e+00</td>\n",
       "      <td>0.000000</td>\n",
       "      <td>0.000000</td>\n",
       "      <td>0.000000</td>\n",
       "      <td>0.000000e+00</td>\n",
       "      <td>0.000000e+00</td>\n",
       "    </tr>\n",
       "    <tr>\n",
       "      <th>Stock Splits</th>\n",
       "      <td>17485.0</td>\n",
       "      <td>0.000000e+00</td>\n",
       "      <td>0.000000e+00</td>\n",
       "      <td>0.000000</td>\n",
       "      <td>0.000000</td>\n",
       "      <td>0.000000</td>\n",
       "      <td>0.000000e+00</td>\n",
       "      <td>0.000000e+00</td>\n",
       "    </tr>\n",
       "  </tbody>\n",
       "</table>\n",
       "</div>"
      ],
      "text/plain": [
       "                count          mean           std         min          25%  \\\n",
       "Open          17485.0  1.940922e+03  6.728440e+02  902.475952  1559.277222   \n",
       "High          17485.0  1.947399e+03  6.756417e+02  921.278198  1564.480469   \n",
       "Low           17485.0  1.934211e+03  6.697479e+02  896.300049  1553.950684   \n",
       "Close         17485.0  1.940835e+03  6.726981e+02  896.575623  1559.341064   \n",
       "Volume        17485.0  1.633657e+08  4.769001e+09    0.000000     0.000000   \n",
       "Dividends     17485.0  0.000000e+00  0.000000e+00    0.000000     0.000000   \n",
       "Stock Splits  17485.0  0.000000e+00  0.000000e+00    0.000000     0.000000   \n",
       "\n",
       "                      50%           75%           max  \n",
       "Open          1784.905029  2.040799e+03  4.205823e+03  \n",
       "High          1790.515625  2.048271e+03  4.227112e+03  \n",
       "Low           1778.494019  2.032429e+03  4.156187e+03  \n",
       "Close         1784.716431  2.040379e+03  4.204396e+03  \n",
       "Volume           0.000000  1.216338e+08  6.273375e+11  \n",
       "Dividends        0.000000  0.000000e+00  0.000000e+00  \n",
       "Stock Splits     0.000000  0.000000e+00  0.000000e+00  "
      ]
     },
     "execution_count": 15,
     "metadata": {},
     "output_type": "execute_result"
    }
   ],
   "source": [
    "df.describe().T"
   ]
  },
  {
   "cell_type": "code",
   "execution_count": 16,
   "metadata": {},
   "outputs": [
    {
     "data": {
      "image/png": "[encoded data removed]",
      "text/plain": [
       "<Figure size 640x480 with 2 Axes>"
      ]
     },
     "metadata": {},
     "output_type": "display_data"
    }
   ],
   "source": [
    "# Plotting closing price and volume\n",
    "plot_price_vol(df)"
   ]
  },
  {
   "cell_type": "markdown",
   "metadata": {},
   "source": [
    "The above looks fairly standard for data from `yfinance`. Immediately we can drop Dividends and Stock Splits given this is a crypto token and the entries are all zero in the data.\n",
    "\n",
    "There appear to be large range of volumes (inlcuding nil volumes). The spike in volumes in May 2022 coincided with collapsed of Terra. Given the large range of values and significant outliers, thie feature could be candidate for scaling with statistics that are robust to outliers (such as `sckikit-learn`'s `RobustScaler`)."
   ]
  },
  {
   "cell_type": "code",
   "execution_count": 17,
   "metadata": {},
   "outputs": [
    {
     "data": {
      "text/plain": [
       "Datetime\n",
       "2021-12-10 11:00:00+00:00    0\n",
       "2021-12-10 14:00:00+00:00    0\n",
       "2021-12-10 18:00:00+00:00    0\n",
       "2021-12-10 20:00:00+00:00    0\n",
       "2021-12-10 21:00:00+00:00    0\n",
       "                            ..\n",
       "2023-12-10 05:00:00+00:00    0\n",
       "2023-12-10 06:00:00+00:00    0\n",
       "2023-12-10 07:00:00+00:00    0\n",
       "2023-12-10 08:00:00+00:00    0\n",
       "2023-12-10 09:00:00+00:00    0\n",
       "Name: Volume, Length: 9100, dtype: int64"
      ]
     },
     "execution_count": 17,
     "metadata": {},
     "output_type": "execute_result"
    }
   ],
   "source": [
    "# Looking at the zero volume entries\n",
    "df['Volume'][df['Volume'] == 0]"
   ]
  },
  {
   "cell_type": "markdown",
   "metadata": {},
   "source": [
    "The above suggests the volume data is unreliable given it is unlikely there were 375 days (i.e. 9,100 hours) where not a single transactions was registered. \n",
    "\n",
    "Therefore, although it reduces the data, I will drop Volume from the dataset."
   ]
  },
  {
   "cell_type": "code",
   "execution_count": 18,
   "metadata": {},
   "outputs": [
    {
     "data": {
      "text/html": [
       "<div>\n",
       "<style scoped>\n",
       "    .dataframe tbody tr th:only-of-type {\n",
       "        vertical-align: middle;\n",
       "    }\n",
       "\n",
       "    .dataframe tbody tr th {\n",
       "        vertical-align: top;\n",
       "    }\n",
       "\n",
       "    .dataframe thead th {\n",
       "        text-align: right;\n",
       "    }\n",
       "</style>\n",
       "<table border=\"1\" class=\"dataframe\">\n",
       "  <thead>\n",
       "    <tr style=\"text-align: right;\">\n",
       "      <th></th>\n",
       "      <th>Open</th>\n",
       "      <th>High</th>\n",
       "      <th>Low</th>\n",
       "      <th>Close</th>\n",
       "    </tr>\n",
       "    <tr>\n",
       "      <th>Datetime</th>\n",
       "      <th></th>\n",
       "      <th></th>\n",
       "      <th></th>\n",
       "      <th></th>\n",
       "    </tr>\n",
       "  </thead>\n",
       "  <tbody>\n",
       "    <tr>\n",
       "      <th>2021-12-10 11:00:00+00:00</th>\n",
       "      <td>4094.138428</td>\n",
       "      <td>4168.385254</td>\n",
       "      <td>4088.458496</td>\n",
       "      <td>4159.988770</td>\n",
       "    </tr>\n",
       "    <tr>\n",
       "      <th>2021-12-10 12:00:00+00:00</th>\n",
       "      <td>4158.929199</td>\n",
       "      <td>4194.666504</td>\n",
       "      <td>4156.186523</td>\n",
       "      <td>4171.749512</td>\n",
       "    </tr>\n",
       "    <tr>\n",
       "      <th>2021-12-10 13:00:00+00:00</th>\n",
       "      <td>4171.667969</td>\n",
       "      <td>4227.111816</td>\n",
       "      <td>4141.002441</td>\n",
       "      <td>4204.396484</td>\n",
       "    </tr>\n",
       "    <tr>\n",
       "      <th>2021-12-10 14:00:00+00:00</th>\n",
       "      <td>4205.823242</td>\n",
       "      <td>4212.586914</td>\n",
       "      <td>4028.301270</td>\n",
       "      <td>4028.301270</td>\n",
       "    </tr>\n",
       "    <tr>\n",
       "      <th>2021-12-10 15:00:00+00:00</th>\n",
       "      <td>4037.234131</td>\n",
       "      <td>4086.067383</td>\n",
       "      <td>3998.373779</td>\n",
       "      <td>4015.867920</td>\n",
       "    </tr>\n",
       "  </tbody>\n",
       "</table>\n",
       "</div>"
      ],
      "text/plain": [
       "                                  Open         High          Low        Close\n",
       "Datetime                                                                     \n",
       "2021-12-10 11:00:00+00:00  4094.138428  4168.385254  4088.458496  4159.988770\n",
       "2021-12-10 12:00:00+00:00  4158.929199  4194.666504  4156.186523  4171.749512\n",
       "2021-12-10 13:00:00+00:00  4171.667969  4227.111816  4141.002441  4204.396484\n",
       "2021-12-10 14:00:00+00:00  4205.823242  4212.586914  4028.301270  4028.301270\n",
       "2021-12-10 15:00:00+00:00  4037.234131  4086.067383  3998.373779  4015.867920"
      ]
     },
     "execution_count": 18,
     "metadata": {},
     "output_type": "execute_result"
    }
   ],
   "source": [
    "df.drop(['Volume', 'Dividends', 'Stock Splits'], axis=1, inplace=True)\n",
    "df.head()"
   ]
  },
  {
   "cell_type": "markdown",
   "metadata": {},
   "source": [
    "### Data Cleaning\n"
   ]
  },
  {
   "cell_type": "markdown",
   "metadata": {},
   "source": [
    "### Data Transformation\n"
   ]
  },
  {
   "cell_type": "markdown",
   "metadata": {},
   "source": [
    "### Deep Learning Model\n"
   ]
  },
  {
   "cell_type": "markdown",
   "metadata": {},
   "source": [
    "### Model Validation\n"
   ]
  },
  {
   "cell_type": "markdown",
   "metadata": {},
   "source": [
    "### Backtesting\n",
    "\n"
   ]
  }
 ],
 "metadata": {
  "kernelspec": {
   "display_name": "tf-gpu",
   "language": "python",
   "name": "python3"
  },
  "language_info": {
   "codemirror_mode": {
    "name": "ipython",
    "version": 3
   },
   "file_extension": ".py",
   "mimetype": "text/x-python",
   "name": "python",
   "nbconvert_exporter": "python",
   "pygments_lexer": "ipython3",
   "version": "3.10.12"
  }
 },
 "nbformat": 4,
 "nbformat_minor": 2
}
