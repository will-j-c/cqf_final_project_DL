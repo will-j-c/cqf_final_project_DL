{
 "cells": [
  {
   "cell_type": "markdown",
   "metadata": {},
   "source": [
    "<div>\n",
    "    <center>\n",
    "        <h1>\n",
    "            <font color=\"#902e59\">CQF June 2023 Intake: Final Project</font>\n",
    "        </h1>\n",
    "    </center>\n",
    "    <center>\n",
    "        <h3>Deep Learning for Asset Prediction</h3>\n",
    "    </center>\n",
    "    <center>\n",
    "        <h5>Will Colgate, Singapore, January 2024</h5>\n",
    "    </center>\n",
    "</div>\n"
   ]
  },
  {
   "cell_type": "markdown",
   "metadata": {},
   "source": [
    "### Problem Statement\n",
    "The objective is to produce a model that can predict positive moves using Long Short-Term Memory (LSTM) networks.\n",
    "\n",
    "I have chosen Ethereum (ETH) as the ticker to analyse (technically a pair with USD). Crypto markets are notoriously volatile and it seems like a decent challenge to try and tease some insight out of the mess.\n",
    "\n",
    "For this purpose, I will aim to predict an hourly positive return. Defining a positive return is discussed in more detail as part of the labels section. This will be a binary classification problem with accuracy as the main metric used to measure the effectiveness of the model. The baseline to test the effectiveness fo the model against would be a random guess (i.e. a 50% chance of being correct) and the baseline for a strategy based on this prediction would be to buy on day one and hold until the end of the test period."
   ]
  },
  {
   "cell_type": "code",
   "execution_count": 1,
   "metadata": {},
   "outputs": [],
   "source": [
    "# Imports\n",
    "from src.config import *\n",
    "\n",
    "# Base\n",
    "import pandas as pd\n",
    "import numpy as np\n",
    "\n",
    "# Plotting\n",
    "import matplotlib.pyplot as plt\n",
    "import seaborn as sns\n",
    "\n",
    "# Preprocessing\n",
    "from sklearn.preprocessing import OneHotEncoder\n",
    "from sklearn.model_selection import train_test_split\n",
    "\n",
    "# Feature engineering\n",
    "import pandas_ta as ta\n",
    "\n",
    "# Warnings\n",
    "import warnings\n",
    "warnings.filterwarnings(\"ignore\")"
   ]
  },
  {
   "cell_type": "markdown",
   "metadata": {},
   "source": [
    "### Data Collection\n",
    "\n",
    "##### Raw Data\n",
    "\n",
    "Using `download.py`, I have downloaded two years worth of hourly ticker data. This script wraps a simple function that pulls data from `yfinance`. The data is saved locally in \"ETH-USD_2y_1h.csv\" for convenience.\n",
    "\n",
    "`yfinance` has a restriction on the amount of hourly data that can be downloaded and restricts this to 730 days of data (i.e. 2 years). Given crypto markets never close, this amounts to 17k+ data points. As a general rule of thumb, 5 years of daily data would be required to predict daily returns. On a normal security, this would only be approximately 1,300 data points. Therefore, 2 years of hourly data should be more than sufficient for this problem. In fact, the amount of data may need to be reduced due to hardware constraints."
   ]
  },
  {
   "cell_type": "code",
   "execution_count": 2,
   "metadata": {},
   "outputs": [
    {
     "data": {
      "text/html": [
       "<div>\n",
       "<style scoped>\n",
       "    .dataframe tbody tr th:only-of-type {\n",
       "        vertical-align: middle;\n",
       "    }\n",
       "\n",
       "    .dataframe tbody tr th {\n",
       "        vertical-align: top;\n",
       "    }\n",
       "\n",
       "    .dataframe thead th {\n",
       "        text-align: right;\n",
       "    }\n",
       "</style>\n",
       "<table border=\"1\" class=\"dataframe\">\n",
       "  <thead>\n",
       "    <tr style=\"text-align: right;\">\n",
       "      <th></th>\n",
       "      <th>count</th>\n",
       "      <th>mean</th>\n",
       "      <th>std</th>\n",
       "      <th>min</th>\n",
       "      <th>25%</th>\n",
       "      <th>50%</th>\n",
       "      <th>75%</th>\n",
       "      <th>max</th>\n",
       "    </tr>\n",
       "  </thead>\n",
       "  <tbody>\n",
       "    <tr>\n",
       "      <th>Open</th>\n",
       "      <td>17485.0</td>\n",
       "      <td>1.940922e+03</td>\n",
       "      <td>6.728440e+02</td>\n",
       "      <td>902.475952</td>\n",
       "      <td>1559.277222</td>\n",
       "      <td>1784.905029</td>\n",
       "      <td>2.040799e+03</td>\n",
       "      <td>4.205823e+03</td>\n",
       "    </tr>\n",
       "    <tr>\n",
       "      <th>High</th>\n",
       "      <td>17485.0</td>\n",
       "      <td>1.947399e+03</td>\n",
       "      <td>6.756417e+02</td>\n",
       "      <td>921.278198</td>\n",
       "      <td>1564.480469</td>\n",
       "      <td>1790.515625</td>\n",
       "      <td>2.048271e+03</td>\n",
       "      <td>4.227112e+03</td>\n",
       "    </tr>\n",
       "    <tr>\n",
       "      <th>Low</th>\n",
       "      <td>17485.0</td>\n",
       "      <td>1.934211e+03</td>\n",
       "      <td>6.697479e+02</td>\n",
       "      <td>896.300049</td>\n",
       "      <td>1553.950684</td>\n",
       "      <td>1778.494019</td>\n",
       "      <td>2.032429e+03</td>\n",
       "      <td>4.156187e+03</td>\n",
       "    </tr>\n",
       "    <tr>\n",
       "      <th>Close</th>\n",
       "      <td>17485.0</td>\n",
       "      <td>1.940835e+03</td>\n",
       "      <td>6.726981e+02</td>\n",
       "      <td>896.575623</td>\n",
       "      <td>1559.341064</td>\n",
       "      <td>1784.716431</td>\n",
       "      <td>2.040379e+03</td>\n",
       "      <td>4.204396e+03</td>\n",
       "    </tr>\n",
       "    <tr>\n",
       "      <th>Volume</th>\n",
       "      <td>17485.0</td>\n",
       "      <td>1.633657e+08</td>\n",
       "      <td>4.769001e+09</td>\n",
       "      <td>0.000000</td>\n",
       "      <td>0.000000</td>\n",
       "      <td>0.000000</td>\n",
       "      <td>1.216338e+08</td>\n",
       "      <td>6.273375e+11</td>\n",
       "    </tr>\n",
       "    <tr>\n",
       "      <th>Dividends</th>\n",
       "      <td>17485.0</td>\n",
       "      <td>0.000000e+00</td>\n",
       "      <td>0.000000e+00</td>\n",
       "      <td>0.000000</td>\n",
       "      <td>0.000000</td>\n",
       "      <td>0.000000</td>\n",
       "      <td>0.000000e+00</td>\n",
       "      <td>0.000000e+00</td>\n",
       "    </tr>\n",
       "    <tr>\n",
       "      <th>Stock Splits</th>\n",
       "      <td>17485.0</td>\n",
       "      <td>0.000000e+00</td>\n",
       "      <td>0.000000e+00</td>\n",
       "      <td>0.000000</td>\n",
       "      <td>0.000000</td>\n",
       "      <td>0.000000</td>\n",
       "      <td>0.000000e+00</td>\n",
       "      <td>0.000000e+00</td>\n",
       "    </tr>\n",
       "  </tbody>\n",
       "</table>\n",
       "</div>"
      ],
      "text/plain": [
       "                count          mean           std         min          25%  \\\n",
       "Open          17485.0  1.940922e+03  6.728440e+02  902.475952  1559.277222   \n",
       "High          17485.0  1.947399e+03  6.756417e+02  921.278198  1564.480469   \n",
       "Low           17485.0  1.934211e+03  6.697479e+02  896.300049  1553.950684   \n",
       "Close         17485.0  1.940835e+03  6.726981e+02  896.575623  1559.341064   \n",
       "Volume        17485.0  1.633657e+08  4.769001e+09    0.000000     0.000000   \n",
       "Dividends     17485.0  0.000000e+00  0.000000e+00    0.000000     0.000000   \n",
       "Stock Splits  17485.0  0.000000e+00  0.000000e+00    0.000000     0.000000   \n",
       "\n",
       "                      50%           75%           max  \n",
       "Open          1784.905029  2.040799e+03  4.205823e+03  \n",
       "High          1790.515625  2.048271e+03  4.227112e+03  \n",
       "Low           1778.494019  2.032429e+03  4.156187e+03  \n",
       "Close         1784.716431  2.040379e+03  4.204396e+03  \n",
       "Volume           0.000000  1.216338e+08  6.273375e+11  \n",
       "Dividends        0.000000  0.000000e+00  0.000000e+00  \n",
       "Stock Splits     0.000000  0.000000e+00  0.000000e+00  "
      ]
     },
     "execution_count": 2,
     "metadata": {},
     "output_type": "execute_result"
    }
   ],
   "source": [
    "# Collect the data into a dataframe\n",
    "csv = 'data/raw/ETH-USD_2y_1h.csv'\n",
    "df = pd.read_csv(csv, index_col='Datetime', parse_dates=True)\n",
    "df.describe().T"
   ]
  },
  {
   "cell_type": "markdown",
   "metadata": {},
   "source": [
    "The above looks fairly standard for data from `yfinance`. Immediately we can drop Dividends and Stock Splits given this is a crypto token and the entries are all zero in the data.\n",
    "\n",
    "There appear to be large range of volumes (including nil volumes)."
   ]
  },
  {
   "cell_type": "code",
   "execution_count": 3,
   "metadata": {},
   "outputs": [
    {
     "data": {
      "text/plain": [
       "9100"
      ]
     },
     "execution_count": 3,
     "metadata": {},
     "output_type": "execute_result"
    }
   ],
   "source": [
    "# Looking at the zero volume entries\n",
    "df['Volume'][df['Volume'] == 0].count()"
   ]
  },
  {
   "cell_type": "markdown",
   "metadata": {},
   "source": [
    "The above suggests the volume data is unreliable given it is unlikely there were 375 days (i.e. 9,100 hours) where not a single transactions was registered. \n",
    "\n",
    "Therefore, I looked for an alternative datasource and found [www.cryptodatadownload.com]() which has hourly data for Gemini, a fairly reputable exchange. I can't speak for the source of the data and it's accuracy but the Gemini API itself only serves data for the past two months, which is unlikely to be enough. For the sake of this experiment, I will use the csv data downloaded from the website. In production, more reliable data straight from the exchange should be procured before making any investment decisions with real money.\n",
    "\n",
    "The hourly data is expressed in New York East Coast time."
   ]
  },
  {
   "cell_type": "code",
   "execution_count": 4,
   "metadata": {},
   "outputs": [
    {
     "data": {
      "text/html": [
       "<div>\n",
       "<style scoped>\n",
       "    .dataframe tbody tr th:only-of-type {\n",
       "        vertical-align: middle;\n",
       "    }\n",
       "\n",
       "    .dataframe tbody tr th {\n",
       "        vertical-align: top;\n",
       "    }\n",
       "\n",
       "    .dataframe thead th {\n",
       "        text-align: right;\n",
       "    }\n",
       "</style>\n",
       "<table border=\"1\" class=\"dataframe\">\n",
       "  <thead>\n",
       "    <tr style=\"text-align: right;\">\n",
       "      <th></th>\n",
       "      <th>open</th>\n",
       "      <th>high</th>\n",
       "      <th>low</th>\n",
       "      <th>close</th>\n",
       "      <th>volume</th>\n",
       "    </tr>\n",
       "    <tr>\n",
       "      <th>unix</th>\n",
       "      <th></th>\n",
       "      <th></th>\n",
       "      <th></th>\n",
       "      <th></th>\n",
       "      <th></th>\n",
       "    </tr>\n",
       "  </thead>\n",
       "  <tbody>\n",
       "    <tr>\n",
       "      <th>2021-06-13 00:00:00+00:00</th>\n",
       "      <td>2370.80</td>\n",
       "      <td>2395.82</td>\n",
       "      <td>2353.41</td>\n",
       "      <td>2390.15</td>\n",
       "      <td>571.740206</td>\n",
       "    </tr>\n",
       "    <tr>\n",
       "      <th>2021-06-13 01:00:00+00:00</th>\n",
       "      <td>2390.15</td>\n",
       "      <td>2419.83</td>\n",
       "      <td>2389.32</td>\n",
       "      <td>2412.34</td>\n",
       "      <td>320.737513</td>\n",
       "    </tr>\n",
       "    <tr>\n",
       "      <th>2021-06-13 02:00:00+00:00</th>\n",
       "      <td>2412.34</td>\n",
       "      <td>2416.56</td>\n",
       "      <td>2380.05</td>\n",
       "      <td>2384.52</td>\n",
       "      <td>198.350042</td>\n",
       "    </tr>\n",
       "    <tr>\n",
       "      <th>2021-06-13 03:00:00+00:00</th>\n",
       "      <td>2384.52</td>\n",
       "      <td>2384.85</td>\n",
       "      <td>2315.00</td>\n",
       "      <td>2336.26</td>\n",
       "      <td>3260.305701</td>\n",
       "    </tr>\n",
       "    <tr>\n",
       "      <th>2021-06-13 04:00:00+00:00</th>\n",
       "      <td>2336.26</td>\n",
       "      <td>2347.56</td>\n",
       "      <td>2326.20</td>\n",
       "      <td>2342.47</td>\n",
       "      <td>384.432689</td>\n",
       "    </tr>\n",
       "  </tbody>\n",
       "</table>\n",
       "</div>"
      ],
      "text/plain": [
       "                              open     high      low    close       volume\n",
       "unix                                                                      \n",
       "2021-06-13 00:00:00+00:00  2370.80  2395.82  2353.41  2390.15   571.740206\n",
       "2021-06-13 01:00:00+00:00  2390.15  2419.83  2389.32  2412.34   320.737513\n",
       "2021-06-13 02:00:00+00:00  2412.34  2416.56  2380.05  2384.52   198.350042\n",
       "2021-06-13 03:00:00+00:00  2384.52  2384.85  2315.00  2336.26  3260.305701\n",
       "2021-06-13 04:00:00+00:00  2336.26  2347.56  2326.20  2342.47   384.432689"
      ]
     },
     "execution_count": 4,
     "metadata": {},
     "output_type": "execute_result"
    }
   ],
   "source": [
    "df = pd.read_csv('data/raw/Gemini_ETHUSD_1h.csv', skiprows=[0])\n",
    "# Parse unix timestamp as UTC dates\n",
    "df['unix'] = pd.to_datetime(df['unix'], unit='ms', utc=True)\n",
    "df.set_index(df['unix'], inplace=True)\n",
    "# Drop date, symbol and Volume USD columns\n",
    "df.drop(['unix', 'date', 'symbol', 'Volume USD'], axis=1, inplace=True)\n",
    "# Rename\n",
    "df.rename(columns={'Volume ETH': 'volume'}, inplace=True)\n",
    "# Sort date ascending\n",
    "df.sort_index(inplace=True)\n",
    "# Take the last 2.5 years to account for losses NaN when feature engineering begins\n",
    "df = df['2021-6-13':]\n",
    "df.head()"
   ]
  },
  {
   "cell_type": "code",
   "execution_count": 5,
   "metadata": {},
   "outputs": [],
   "source": [
    "# Plotting closing price and volume\n",
    "# plot_price_vol(df, 'close', 'volume')"
   ]
  },
  {
   "cell_type": "markdown",
   "metadata": {},
   "source": [
    "The new data looks much more reasonable and seems to include more data points for volatility. There is also much more data availably, which should hopefully help with training the model. Again, I may need to remove some of this data due to hardware limitations. I will use this going forwards."
   ]
  },
  {
   "cell_type": "markdown",
   "metadata": {},
   "source": [
    "The crypto market is notoriously emotion driven. Even glancing at social maedia or news outlets allows a person to gain a sense of how this is true. It follows then that some kind of sentiment regarding this emotional investing would potentially give some interesting insight into the problem statement. There is an interesting resource updated daily on [alternative.me](https://alternative.me/crypto/fear-and-greed-index/) called the fear and greed index. \n",
    "\n",
    "The index takes a weighted approach to a number of factors across 5 (formally, 6) datasources. A numerical value is assigned which falls into categories of:\n",
    "\n",
    "- Extreme Fear\n",
    "- Fear\n",
    "- Neutral\n",
    "- Greed\n",
    "- Extreme Greed\n",
    "\n",
    "The index is updated daily at 00:00 UTC."
   ]
  },
  {
   "cell_type": "code",
   "execution_count": 6,
   "metadata": {},
   "outputs": [
    {
     "data": {
      "text/html": [
       "<div>\n",
       "<style scoped>\n",
       "    .dataframe tbody tr th:only-of-type {\n",
       "        vertical-align: middle;\n",
       "    }\n",
       "\n",
       "    .dataframe tbody tr th {\n",
       "        vertical-align: top;\n",
       "    }\n",
       "\n",
       "    .dataframe thead th {\n",
       "        text-align: right;\n",
       "    }\n",
       "</style>\n",
       "<table border=\"1\" class=\"dataframe\">\n",
       "  <thead>\n",
       "    <tr style=\"text-align: right;\">\n",
       "      <th></th>\n",
       "      <th>fg_value</th>\n",
       "      <th>fg_value_classification</th>\n",
       "    </tr>\n",
       "    <tr>\n",
       "      <th>timestamp</th>\n",
       "      <th></th>\n",
       "      <th></th>\n",
       "    </tr>\n",
       "  </thead>\n",
       "  <tbody>\n",
       "    <tr>\n",
       "      <th>2023-12-23 00:00:00+00:00</th>\n",
       "      <td>70</td>\n",
       "      <td>greed</td>\n",
       "    </tr>\n",
       "    <tr>\n",
       "      <th>2023-12-22 00:00:00+00:00</th>\n",
       "      <td>74</td>\n",
       "      <td>greed</td>\n",
       "    </tr>\n",
       "    <tr>\n",
       "      <th>2023-12-21 00:00:00+00:00</th>\n",
       "      <td>70</td>\n",
       "      <td>greed</td>\n",
       "    </tr>\n",
       "    <tr>\n",
       "      <th>2023-12-20 00:00:00+00:00</th>\n",
       "      <td>74</td>\n",
       "      <td>greed</td>\n",
       "    </tr>\n",
       "    <tr>\n",
       "      <th>2023-12-19 00:00:00+00:00</th>\n",
       "      <td>73</td>\n",
       "      <td>greed</td>\n",
       "    </tr>\n",
       "  </tbody>\n",
       "</table>\n",
       "</div>"
      ],
      "text/plain": [
       "                           fg_value fg_value_classification\n",
       "timestamp                                                  \n",
       "2023-12-23 00:00:00+00:00        70                   greed\n",
       "2023-12-22 00:00:00+00:00        74                   greed\n",
       "2023-12-21 00:00:00+00:00        70                   greed\n",
       "2023-12-20 00:00:00+00:00        74                   greed\n",
       "2023-12-19 00:00:00+00:00        73                   greed"
      ]
     },
     "execution_count": 6,
     "metadata": {},
     "output_type": "execute_result"
    }
   ],
   "source": [
    "# Load fear and greed data\n",
    "df_fear_greed = pd.read_csv('data/raw/crypto_greed_fear_index.csv', parse_dates=True, index_col='timestamp')\n",
    "# Drop unneeded columns\n",
    "df_fear_greed.drop(['time_until_update', 'timestamp.1'], axis=1, inplace=True)\n",
    "# Rename columns\n",
    "df_fear_greed.columns = ['fg_value', 'fg_value_classification']\n",
    "# Put classification to lower case\n",
    "df_fear_greed['fg_value_classification'] = df_fear_greed['fg_value_classification'].str.lower()\n",
    "df_fear_greed.head()"
   ]
  },
  {
   "cell_type": "code",
   "execution_count": 7,
   "metadata": {},
   "outputs": [
    {
     "data": {
      "text/html": [
       "<div>\n",
       "<style scoped>\n",
       "    .dataframe tbody tr th:only-of-type {\n",
       "        vertical-align: middle;\n",
       "    }\n",
       "\n",
       "    .dataframe tbody tr th {\n",
       "        vertical-align: top;\n",
       "    }\n",
       "\n",
       "    .dataframe thead th {\n",
       "        text-align: right;\n",
       "    }\n",
       "</style>\n",
       "<table border=\"1\" class=\"dataframe\">\n",
       "  <thead>\n",
       "    <tr style=\"text-align: right;\">\n",
       "      <th></th>\n",
       "      <th>open</th>\n",
       "      <th>high</th>\n",
       "      <th>low</th>\n",
       "      <th>close</th>\n",
       "      <th>volume</th>\n",
       "      <th>fg_value</th>\n",
       "      <th>fg_value_classification</th>\n",
       "    </tr>\n",
       "    <tr>\n",
       "      <th>unix</th>\n",
       "      <th></th>\n",
       "      <th></th>\n",
       "      <th></th>\n",
       "      <th></th>\n",
       "      <th></th>\n",
       "      <th></th>\n",
       "      <th></th>\n",
       "    </tr>\n",
       "  </thead>\n",
       "  <tbody>\n",
       "    <tr>\n",
       "      <th>2023-12-12 19:00:00+00:00</th>\n",
       "      <td>2187.81</td>\n",
       "      <td>2188.03</td>\n",
       "      <td>2172.59</td>\n",
       "      <td>2176.29</td>\n",
       "      <td>103.032324</td>\n",
       "      <td>67.0</td>\n",
       "      <td>greed</td>\n",
       "    </tr>\n",
       "    <tr>\n",
       "      <th>2023-12-12 20:00:00+00:00</th>\n",
       "      <td>2176.29</td>\n",
       "      <td>2187.75</td>\n",
       "      <td>2170.26</td>\n",
       "      <td>2186.10</td>\n",
       "      <td>262.450524</td>\n",
       "      <td>67.0</td>\n",
       "      <td>greed</td>\n",
       "    </tr>\n",
       "    <tr>\n",
       "      <th>2023-12-12 21:00:00+00:00</th>\n",
       "      <td>2186.10</td>\n",
       "      <td>2190.25</td>\n",
       "      <td>2166.69</td>\n",
       "      <td>2172.23</td>\n",
       "      <td>173.656678</td>\n",
       "      <td>67.0</td>\n",
       "      <td>greed</td>\n",
       "    </tr>\n",
       "    <tr>\n",
       "      <th>2023-12-12 22:00:00+00:00</th>\n",
       "      <td>2172.23</td>\n",
       "      <td>2190.22</td>\n",
       "      <td>2170.76</td>\n",
       "      <td>2187.34</td>\n",
       "      <td>93.143372</td>\n",
       "      <td>67.0</td>\n",
       "      <td>greed</td>\n",
       "    </tr>\n",
       "    <tr>\n",
       "      <th>2023-12-12 23:00:00+00:00</th>\n",
       "      <td>2187.34</td>\n",
       "      <td>2205.30</td>\n",
       "      <td>2187.34</td>\n",
       "      <td>2202.01</td>\n",
       "      <td>193.550211</td>\n",
       "      <td>67.0</td>\n",
       "      <td>greed</td>\n",
       "    </tr>\n",
       "  </tbody>\n",
       "</table>\n",
       "</div>"
      ],
      "text/plain": [
       "                              open     high      low    close      volume  \\\n",
       "unix                                                                        \n",
       "2023-12-12 19:00:00+00:00  2187.81  2188.03  2172.59  2176.29  103.032324   \n",
       "2023-12-12 20:00:00+00:00  2176.29  2187.75  2170.26  2186.10  262.450524   \n",
       "2023-12-12 21:00:00+00:00  2186.10  2190.25  2166.69  2172.23  173.656678   \n",
       "2023-12-12 22:00:00+00:00  2172.23  2190.22  2170.76  2187.34   93.143372   \n",
       "2023-12-12 23:00:00+00:00  2187.34  2205.30  2187.34  2202.01  193.550211   \n",
       "\n",
       "                           fg_value fg_value_classification  \n",
       "unix                                                         \n",
       "2023-12-12 19:00:00+00:00      67.0                   greed  \n",
       "2023-12-12 20:00:00+00:00      67.0                   greed  \n",
       "2023-12-12 21:00:00+00:00      67.0                   greed  \n",
       "2023-12-12 22:00:00+00:00      67.0                   greed  \n",
       "2023-12-12 23:00:00+00:00      67.0                   greed  "
      ]
     },
     "execution_count": 7,
     "metadata": {},
     "output_type": "execute_result"
    }
   ],
   "source": [
    "# Join the sentiment data to price data\n",
    "df = df.join(df_fear_greed)\n",
    "df['fg_value'].ffill(inplace=True)\n",
    "df['fg_value_classification'].ffill(inplace=True)\n",
    "df.tail()"
   ]
  },
  {
   "cell_type": "markdown",
   "metadata": {},
   "source": [
    "The above table is a sample of the final raw data that will be used for the remainder of the analyis."
   ]
  },
  {
   "cell_type": "markdown",
   "metadata": {},
   "source": [
    "##### Feature Engineering\n",
    "\n"
   ]
  },
  {
   "cell_type": "code",
   "execution_count": 8,
   "metadata": {},
   "outputs": [],
   "source": [
    "# Create the technical indicators\n",
    "df.ta.study(cores=0)"
   ]
  },
  {
   "cell_type": "code",
   "execution_count": 9,
   "metadata": {},
   "outputs": [],
   "source": [
    "# Add hours, days, months to investigate seasonality\n",
    "df['hour'] = df.index.hour\n",
    "df['day_of_week'] = df.index.day\n",
    "df['month'] = df.index.month"
   ]
  },
  {
   "cell_type": "code",
   "execution_count": 10,
   "metadata": {},
   "outputs": [
    {
     "data": {
      "text/plain": [
       "0"
      ]
     },
     "execution_count": 10,
     "metadata": {},
     "output_type": "execute_result"
    }
   ],
   "source": [
    "# Checking where there are null values for more than a thousand rows and discarding column\n",
    "cols_to_discard = df.isnull().sum()[df.isnull().sum() > 1000].index.values\n",
    "df.drop(cols_to_discard, axis=1, inplace=True)\n",
    "df.dropna(axis=0, inplace=True)\n",
    "df.isnull().sum().sum()"
   ]
  },
  {
   "cell_type": "markdown",
   "metadata": {},
   "source": [
    "##### Labelling the Data\n",
    "\n",
    "Given the problem statement is to predict an hourly positive return. A practical approach to predicting a positve return for these purposes would be any net reuturn (i.e. after transaction costs).\n",
    "\n",
    "[Here](https://www.gemini.com/fees/api-fee-schedule) are the fees from the Gemini exchange for reference. The taker fee at the lowest volume per month is 0.4%. To account for interest on margin, I will round this up to 0.5% as an estimate.\n",
    "\n",
    "Therefore, a label of 1 will mean that that the upward return in the next hour will be greater than 0.05% and 0 otherwise. Mathamatically:\n",
    "\n",
    "$$ y_t =\n",
    "  \\begin{cases}\n",
    "    1      & \\quad \\text{if  } r_{t+1} > 0.005\\\\\n",
    "    0  & \\quad \\text{otherwise}\n",
    "  \\end{cases}\n",
    "$$"
   ]
  },
  {
   "cell_type": "code",
   "execution_count": 11,
   "metadata": {},
   "outputs": [],
   "source": [
    "# Adding the labels\n",
    "df['label'] = np.where(df['LOGRET_1'].shift(-1) > 0.005, 1, 0)\n",
    "df.dtypes.to_csv('sdsds.csv')"
   ]
  },
  {
   "cell_type": "code",
   "execution_count": 12,
   "metadata": {},
   "outputs": [],
   "source": [
    "# One Hot Encoding of categorical data\n",
    "encoder = OneHotEncoder(sparse_output=False)\n",
    "onehot = encoder.fit_transform(df[['fg_value_classification', 'hour', 'day_of_week', 'month']])\n",
    "feature_names = encoder.get_feature_names_out()\n",
    "df[feature_names] = onehot\n",
    "df.drop(['fg_value_classification', 'hour', 'day_of_week', 'month'], axis=1, inplace=True)\n",
    "# Save train and test datasets in csv in relevant folders"
   ]
  },
  {
   "cell_type": "code",
   "execution_count": 13,
   "metadata": {},
   "outputs": [],
   "source": [
    "# Train test split\n",
    "y = df['label']\n",
    "X = df.drop('label', axis=1)\n",
    "# Train test split. Shuffle is false to retain time series attributes \n",
    "X_train, X_test, y_train, y_test = train_test_split(X, y, random_state=42, shuffle=False)"
   ]
  },
  {
   "cell_type": "markdown",
   "metadata": {},
   "source": [
    "A few observations from the pairplot:\n",
    "\n",
    "- The return does not seem to have any seasonality to it over the past 2 years, with the trend line indicating corrolation close to (if not exactly) zero.\n",
    "- The fear and greed index, although having minimal correlation, appear to exhibit heteroskedasticity, indicating that as the greed index rises, the volatility in return tends to fall. The greed index could be a good indiactior of volatility in the market.\n",
    "- There are a few outliers for volume, potentially indicaing it is a good candidate for a robust scaler.\n",
    "- Volume tends to drop as the index indicates more greediness.\n",
    "- The closing price tends to fall throughout the year. However, there are only 2 of each month in the dataset so this is unlikely to be indicitive. Potentially need to drop this point.\n",
    "- As expected, returns exhibit stochastic characteristics and look relative normal in their distribution.\n",
    "- There is a significant class imbalance that will need to be addressed.\n",
    "\n",
    "Given the pairplot has a lot of variables, I have also used unifold manifold approximation & projection (UMAP) below to examine any potential realtionships in the data. "
   ]
  },
  {
   "cell_type": "code",
   "execution_count": 14,
   "metadata": {},
   "outputs": [],
   "source": [
    "# import umap\n",
    "# import umap.plot\n",
    "# from sklearn.preprocessing import MinMaxScaler\n",
    "\n",
    "# reducer = umap.UMAP(n_neighbors=50, random_state=42, min_dist=0.1, n_components=3)\n",
    "# scaled_X = MinMaxScaler().fit_transform(X)\n",
    "# embedder = reducer.fit_transform(scaled_X)"
   ]
  },
  {
   "cell_type": "code",
   "execution_count": 15,
   "metadata": {},
   "outputs": [],
   "source": [
    "# import plotly.express as px\n",
    "# fig = px.scatter_3d(X, x=embedder[:, 0], y=embedder[:, 1], z=embedder[:, 2], color=y, hover_data=X.columns, opacity=0.75, width=600, title='UMAP')\n",
    "# fig.update(layout_coloraxis_showscale=False)\n",
    "# fig.show()"
   ]
  },
  {
   "cell_type": "markdown",
   "metadata": {},
   "source": [
    "UMAP does show some clustering of data, suggesting it could be used for dimensionality reduction although it dows not seem to give much of an indication on the return label. This will be further explored later in this report. "
   ]
  },
  {
   "cell_type": "markdown",
   "metadata": {},
   "source": [
    "### Data Cleaning\n",
    "\n",
    "Just looking at the data, it seems fairly complete but I will do some basic checks to confirm this is the case."
   ]
  },
  {
   "cell_type": "code",
   "execution_count": 16,
   "metadata": {},
   "outputs": [
    {
     "data": {
      "text/plain": [
       "open        False\n",
       "high        False\n",
       "low         False\n",
       "close       False\n",
       "volume      False\n",
       "            ...  \n",
       "month_8     False\n",
       "month_9     False\n",
       "month_10    False\n",
       "month_11    False\n",
       "month_12    False\n",
       "Length: 392, dtype: bool"
      ]
     },
     "execution_count": 16,
     "metadata": {},
     "output_type": "execute_result"
    }
   ],
   "source": [
    "# Checking for null values\n",
    "df.isnull().sum() > 0"
   ]
  },
  {
   "cell_type": "markdown",
   "metadata": {},
   "source": [
    "As expected, the data is clean and we can start with feature engineering. "
   ]
  },
  {
   "cell_type": "markdown",
   "metadata": {},
   "source": [
    "### Data Transformation\n",
    "##### Feature Creation\n",
    "\n",
    "In `feature.py`, I have created a script that calculates various technical indicators. These features are well documented online but I have included a summary pdf for easy reference."
   ]
  },
  {
   "cell_type": "markdown",
   "metadata": {},
   "source": [
    "##### Feature Scaling"
   ]
  },
  {
   "cell_type": "markdown",
   "metadata": {},
   "source": [
    "### Deep Learning Model\n"
   ]
  },
  {
   "cell_type": "markdown",
   "metadata": {},
   "source": [
    "### Model Validation\n"
   ]
  },
  {
   "cell_type": "markdown",
   "metadata": {},
   "source": [
    "### Backtesting\n",
    "\n"
   ]
  }
 ],
 "metadata": {
  "kernelspec": {
   "display_name": "tf-gpu",
   "language": "python",
   "name": "python3"
  },
  "language_info": {
   "codemirror_mode": {
    "name": "ipython",
    "version": 3
   },
   "file_extension": ".py",
   "mimetype": "text/x-python",
   "name": "python",
   "nbconvert_exporter": "python",
   "pygments_lexer": "ipython3",
   "version": "3.10.12"
  }
 },
 "nbformat": 4,
 "nbformat_minor": 2
}
