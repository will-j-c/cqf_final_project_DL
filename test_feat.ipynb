{
 "cells": [
  {
   "cell_type": "code",
   "execution_count": 15,
   "metadata": {},
   "outputs": [],
   "source": [
    "from src.helpers import *\n",
    "from sklearn.pipeline import Pipeline\n",
    "from boruta import BorutaPy\n",
    "from sklearn.ensemble import RandomForestClassifier\n",
    "from datetime import datetime\n",
    "import time\n",
    "from umap import UMAP"
   ]
  },
  {
   "cell_type": "code",
   "execution_count": 16,
   "metadata": {},
   "outputs": [],
   "source": [
    "# Reload the saved scaled data\n",
    "X_train = pd.read_csv('data/train/scaled_X_train.csv', parse_dates=True, index_col='unix')\n",
    "y_train = pd.read_csv('data/train/y_train.csv', parse_dates=True, index_col='unix')\n",
    "X_test = pd.read_csv('data/test/scaled_X_test.csv', parse_dates=True, index_col='unix')\n",
    "y_test = pd.read_csv('data/test/y_test.csv', parse_dates=True, index_col='unix')\n",
    "X_val = pd.read_csv('data/val/scaled_X_val.csv', parse_dates=True, index_col='unix')\n",
    "y_val = pd.read_csv('data/val/y_val.csv', parse_dates=True, index_col='unix')"
   ]
  },
  {
   "cell_type": "code",
   "execution_count": 17,
   "metadata": {},
   "outputs": [
    {
     "name": "stdout",
     "output_type": "stream",
     "text": [
      "0.00005 seconds\n"
     ]
    }
   ],
   "source": [
    "start = time.time()\n",
    "for i in range(1, 1000):\n",
    "    continue\n",
    "end = time.time()\n",
    "duration = '{0:.5f}'.format(end - start)\n",
    "print(f'{duration} seconds')"
   ]
  },
  {
   "cell_type": "code",
   "execution_count": 18,
   "metadata": {},
   "outputs": [],
   "source": [
    "# Calculate the weights for the imbalanced classes\n",
    "y = pd.concat([y_train, y_val, y_test])\n",
    "weights = cwts(y.values.flatten())\n"
   ]
  },
  {
   "cell_type": "code",
   "execution_count": 19,
   "metadata": {},
   "outputs": [],
   "source": [
    "rf = RandomForestClassifier(n_jobs=-1, class_weight=weights)"
   ]
  },
  {
   "cell_type": "code",
   "execution_count": 20,
   "metadata": {},
   "outputs": [],
   "source": [
    "# Define the various feature selection methods\n",
    "vif = VIFTransform(dropna=True)\n",
    "boruta = BorutaPy(rf, n_estimators='auto', verbose=2)"
   ]
  },
  {
   "cell_type": "code",
   "execution_count": 21,
   "metadata": {},
   "outputs": [],
   "source": [
    "# Define data pipelines\n",
    "pipelines = [\n",
    "    'none',\n",
    "    Pipeline([('vif', vif)])\n",
    "]"
   ]
  },
  {
   "cell_type": "code",
   "execution_count": 22,
   "metadata": {},
   "outputs": [],
   "source": [
    "umap = UMAP(n_neighbors=5)\n",
    "pipe_1 = Pipeline([('umap', umap)])"
   ]
  },
  {
   "cell_type": "code",
   "execution_count": 23,
   "metadata": {},
   "outputs": [
    {
     "data": {
      "text/plain": [
       "'./tensorboard/feature_selection/run_umap_01-01-2024-16:50:00'"
      ]
     },
     "execution_count": 23,
     "metadata": {},
     "output_type": "execute_result"
    }
   ],
   "source": [
    "filepath = './tensorboard/feature_selection/run'\n",
    "time = datetime.now().strftime('%m-%d-%Y-%H:%M:%S')\n",
    "for key in pipe_1.named_steps.keys():\n",
    "    filepath += f'_{key}_'\n",
    "filepath += time\n",
    "filepath"
   ]
  },
  {
   "cell_type": "code",
   "execution_count": 24,
   "metadata": {},
   "outputs": [],
   "source": [
    "X_train = pipe_1.fit_transform(X_train, y_train.values.ravel())"
   ]
  },
  {
   "cell_type": "code",
   "execution_count": 26,
   "metadata": {},
   "outputs": [
    {
     "data": {
      "text/plain": [
       "array([[13.877993 ,  8.688454 ],\n",
       "       [13.876389 ,  8.687096 ],\n",
       "       [13.508537 ,  8.250653 ],\n",
       "       ...,\n",
       "       [ 6.748612 , 11.521355 ],\n",
       "       [ 6.758693 , 11.0943575],\n",
       "       [ 6.2896395, 11.115365 ]], dtype=float32)"
      ]
     },
     "execution_count": 26,
     "metadata": {},
     "output_type": "execute_result"
    }
   ],
   "source": [
    "X_train"
   ]
  },
  {
   "cell_type": "code",
   "execution_count": null,
   "metadata": {},
   "outputs": [],
   "source": []
  }
 ],
 "metadata": {
  "kernelspec": {
   "display_name": "final_assignment_code-eTELY0YF",
   "language": "python",
   "name": "python3"
  },
  "language_info": {
   "codemirror_mode": {
    "name": "ipython",
    "version": 3
   },
   "file_extension": ".py",
   "mimetype": "text/x-python",
   "name": "python",
   "nbconvert_exporter": "python",
   "pygments_lexer": "ipython3",
   "version": "3.10.12"
  }
 },
 "nbformat": 4,
 "nbformat_minor": 2
}
