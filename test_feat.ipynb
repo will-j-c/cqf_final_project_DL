{
 "cells": [
  {
   "cell_type": "code",
   "execution_count": 3,
   "metadata": {},
   "outputs": [
    {
     "name": "stderr",
     "output_type": "stream",
     "text": [
      "2024-01-04 20:31:28.618446: I tensorflow/core/util/port.cc:113] oneDNN custom operations are on. You may see slightly different numerical results due to floating-point round-off errors from different computation orders. To turn them off, set the environment variable `TF_ENABLE_ONEDNN_OPTS=0`.\n",
      "2024-01-04 20:31:28.646652: E external/local_xla/xla/stream_executor/cuda/cuda_dnn.cc:9261] Unable to register cuDNN factory: Attempting to register factory for plugin cuDNN when one has already been registered\n",
      "2024-01-04 20:31:28.646674: E external/local_xla/xla/stream_executor/cuda/cuda_fft.cc:607] Unable to register cuFFT factory: Attempting to register factory for plugin cuFFT when one has already been registered\n",
      "2024-01-04 20:31:28.647348: E external/local_xla/xla/stream_executor/cuda/cuda_blas.cc:1515] Unable to register cuBLAS factory: Attempting to register factory for plugin cuBLAS when one has already been registered\n",
      "2024-01-04 20:31:28.651842: I tensorflow/core/platform/cpu_feature_guard.cc:182] This TensorFlow binary is optimized to use available CPU instructions in performance-critical operations.\n",
      "To enable the following instructions: AVX2 AVX512F AVX512_VNNI FMA, in other operations, rebuild TensorFlow with the appropriate compiler flags.\n",
      "2024-01-04 20:31:29.139432: W tensorflow/compiler/tf2tensorrt/utils/py_utils.cc:38] TF-TRT Warning: Could not find TensorRT\n",
      "/home/boshlike/.local/share/virtualenvs/final_assignment_code-eTELY0YF/lib/python3.10/site-packages/tqdm/auto.py:21: TqdmWarning: IProgress not found. Please update jupyter and ipywidgets. See https://ipywidgets.readthedocs.io/en/stable/user_install.html\n",
      "  from .autonotebook import tqdm as notebook_tqdm\n"
     ]
    }
   ],
   "source": [
    "from src.helpers import *\n",
    "from sklearn.pipeline import Pipeline\n",
    "from boruta import BorutaPy\n",
    "from sklearn.ensemble import RandomForestClassifier\n",
    "from datetime import datetime\n",
    "import time\n",
    "from umap import UMAP"
   ]
  },
  {
   "cell_type": "code",
   "execution_count": 4,
   "metadata": {},
   "outputs": [],
   "source": [
    "# Reload the saved scaled data\n",
    "X_train = pd.read_csv('data/train/scaled_X_train.csv', parse_dates=True, index_col='unix')\n",
    "y_train = pd.read_csv('data/train/y_train.csv', parse_dates=True, index_col='unix')\n",
    "X_test = pd.read_csv('data/test/scaled_X_test.csv', parse_dates=True, index_col='unix')\n",
    "y_test = pd.read_csv('data/test/y_test.csv', parse_dates=True, index_col='unix')\n",
    "X_val = pd.read_csv('data/val/scaled_X_val.csv', parse_dates=True, index_col='unix')\n",
    "y_val = pd.read_csv('data/val/y_val.csv', parse_dates=True, index_col='unix')"
   ]
  },
  {
   "cell_type": "code",
   "execution_count": 5,
   "metadata": {},
   "outputs": [
    {
     "data": {
      "text/plain": [
       "(28500, 324)"
      ]
     },
     "execution_count": 5,
     "metadata": {},
     "output_type": "execute_result"
    }
   ],
   "source": [
    "X_train.shape"
   ]
  },
  {
   "cell_type": "code",
   "execution_count": null,
   "metadata": {},
   "outputs": [],
   "source": []
  },
  {
   "cell_type": "code",
   "execution_count": 6,
   "metadata": {},
   "outputs": [
    {
     "name": "stdout",
     "output_type": "stream",
     "text": [
      "0.00006 seconds\n"
     ]
    }
   ],
   "source": [
    "start = time.time()\n",
    "for i in range(1, 1000):\n",
    "    continue\n",
    "end = time.time()\n",
    "duration = '{0:.5f}'.format(end - start)\n",
    "print(f'{duration} seconds')"
   ]
  },
  {
   "cell_type": "code",
   "execution_count": 7,
   "metadata": {},
   "outputs": [],
   "source": [
    "# Calculate the weights for the imbalanced classes\n",
    "y = pd.concat([y_train, y_val, y_test])\n",
    "weights = cwts(y.values.flatten())\n"
   ]
  },
  {
   "cell_type": "code",
   "execution_count": 8,
   "metadata": {},
   "outputs": [],
   "source": [
    "rf = RandomForestClassifier(n_jobs=-1, class_weight=weights)"
   ]
  },
  {
   "cell_type": "code",
   "execution_count": 9,
   "metadata": {},
   "outputs": [],
   "source": [
    "# Define the various feature selection methods\n",
    "vif = VIFTransform(dropna=True)\n",
    "boruta = BorutaPy(rf, n_estimators='auto', verbose=2)"
   ]
  },
  {
   "cell_type": "code",
   "execution_count": 10,
   "metadata": {},
   "outputs": [],
   "source": [
    "# Define data pipelines\n",
    "pipelines = [\n",
    "    'none',\n",
    "    Pipeline([('vif', vif)])\n",
    "]"
   ]
  },
  {
   "cell_type": "code",
   "execution_count": 11,
   "metadata": {},
   "outputs": [],
   "source": [
    "umap = UMAP(n_neighbors=5)\n",
    "pipe_1 = Pipeline([('umap', umap)])"
   ]
  },
  {
   "cell_type": "code",
   "execution_count": 12,
   "metadata": {},
   "outputs": [
    {
     "data": {
      "text/plain": [
       "'./tensorboard/feature_selection/run_umap_01-04-2024-20:31:34'"
      ]
     },
     "execution_count": 12,
     "metadata": {},
     "output_type": "execute_result"
    }
   ],
   "source": [
    "filepath = './tensorboard/feature_selection/run'\n",
    "time = datetime.now().strftime('%m-%d-%Y-%H:%M:%S')\n",
    "for key in pipe_1.named_steps.keys():\n",
    "    filepath += f'_{key}_'\n",
    "filepath += time\n",
    "filepath"
   ]
  },
  {
   "cell_type": "code",
   "execution_count": 13,
   "metadata": {},
   "outputs": [
    {
     "name": "stderr",
     "output_type": "stream",
     "text": [
      "/home/boshlike/.local/share/virtualenvs/final_assignment_code-eTELY0YF/lib/python3.10/site-packages/sklearn/manifold/_spectral_embedding.py:273: UserWarning: Graph is not fully connected, spectral embedding may not work as expected.\n",
      "  warnings.warn(\n"
     ]
    }
   ],
   "source": [
    "X_train = pipe_1.fit_transform(X_train, y_train.values.ravel())"
   ]
  },
  {
   "cell_type": "code",
   "execution_count": 14,
   "metadata": {},
   "outputs": [
    {
     "data": {
      "text/plain": [
       "array([[-0.13059509, -0.25891238],\n",
       "       [ 9.091423  , -1.1986651 ],\n",
       "       [ 9.092318  , -1.1952734 ],\n",
       "       ...,\n",
       "       [-7.7361903 ,  9.329575  ],\n",
       "       [-7.739735  ,  9.327072  ],\n",
       "       [-7.7416525 ,  9.327802  ]], dtype=float32)"
      ]
     },
     "execution_count": 14,
     "metadata": {},
     "output_type": "execute_result"
    }
   ],
   "source": [
    "X_train"
   ]
  },
  {
   "cell_type": "code",
   "execution_count": null,
   "metadata": {},
   "outputs": [],
   "source": []
  }
 ],
 "metadata": {
  "kernelspec": {
   "display_name": "final_assignment_code-eTELY0YF",
   "language": "python",
   "name": "python3"
  },
  "language_info": {
   "codemirror_mode": {
    "name": "ipython",
    "version": 3
   },
   "file_extension": ".py",
   "mimetype": "text/x-python",
   "name": "python",
   "nbconvert_exporter": "python",
   "pygments_lexer": "ipython3",
   "version": "3.10.12"
  }
 },
 "nbformat": 4,
 "nbformat_minor": 2
}
